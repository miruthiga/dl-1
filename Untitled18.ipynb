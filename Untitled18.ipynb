{
  "nbformat": 4,
  "nbformat_minor": 0,
  "metadata": {
    "colab": {
      "provenance": [],
      "authorship_tag": "ABX9TyO5kUiv2/VlSAXdo0pXLZ6G",
      "include_colab_link": true
    },
    "kernelspec": {
      "name": "python3",
      "display_name": "Python 3"
    },
    "language_info": {
      "name": "python"
    }
  },
  "cells": [
    {
      "cell_type": "markdown",
      "metadata": {
        "id": "view-in-github",
        "colab_type": "text"
      },
      "source": [
        "<a href=\"https://colab.research.google.com/github/miruthiga/dl-1/blob/main/Untitled18.ipynb\" target=\"_parent\"><img src=\"https://colab.research.google.com/assets/colab-badge.svg\" alt=\"Open In Colab\"/></a>"
      ]
    },
    {
      "cell_type": "code",
      "execution_count": 1,
      "metadata": {
        "colab": {
          "base_uri": "https://localhost:8080/"
        },
        "id": "PdOjFbTEKc91",
        "outputId": "af1e03e4-a6a2-4fc4-c3c4-0988668736a7"
      },
      "outputs": [
        {
          "output_type": "stream",
          "name": "stdout",
          "text": [
            "Precision: 0.67\n",
            "Recall: 1.00\n"
          ]
        }
      ],
      "source": [
        "import numpy as np\n",
        "\n",
        "def calculate_iou(gt_box, pred_box):\n",
        "    \"\"\"\n",
        "    Computes IoU (Intersection over Union) between a ground truth box and a predicted box.\n",
        "\n",
        "    gt_box: [x_min, y_min, x_max, y_max] - Ground Truth Bounding Box\n",
        "    pred_box: [x_min, y_min, x_max, y_max] - Predicted Bounding Box\n",
        "\n",
        "    Returns:\n",
        "        IoU value (float)\n",
        "    \"\"\"\n",
        "    # Calculate intersection coordinates\n",
        "    x_min_inter = max(gt_box[0], pred_box[0])\n",
        "    y_min_inter = max(gt_box[1], pred_box[1])\n",
        "    x_max_inter = min(gt_box[2], pred_box[2])\n",
        "    y_max_inter = min(gt_box[3], pred_box[3])\n",
        "\n",
        "    # Compute intersection area\n",
        "    inter_width = max(0, x_max_inter - x_min_inter)\n",
        "    inter_height = max(0, y_max_inter - y_min_inter)\n",
        "    intersection_area = inter_width * inter_height\n",
        "\n",
        "    # Compute individual box areas\n",
        "    gt_area = (gt_box[2] - gt_box[0]) * (gt_box[3] - gt_box[1])\n",
        "    pred_area = (pred_box[2] - pred_box[0]) * (pred_box[3] - pred_box[1])\n",
        "\n",
        "    # Compute union area\n",
        "    union_area = gt_area + pred_area - intersection_area\n",
        "\n",
        "    # Compute IoU\n",
        "    iou = intersection_area / union_area if union_area > 0 else 0\n",
        "    return iou\n",
        "\n",
        "\n",
        "def calculate_precision_recall(gt_boxes, pred_boxes, iou_threshold=0.5):\n",
        "    \"\"\"\n",
        "    Computes precision and recall based on IoU threshold.\n",
        "\n",
        "    gt_boxes: List of ground truth bounding boxes [[x_min, y_min, x_max, y_max], ...]\n",
        "    pred_boxes: List of predicted bounding boxes [[x_min, y_min, x_max, y_max], ...]\n",
        "    iou_threshold: IoU threshold to consider a prediction as a True Positive\n",
        "\n",
        "    Returns:\n",
        "        Precision, Recall\n",
        "    \"\"\"\n",
        "    true_positives = 0\n",
        "    false_positives = 0\n",
        "    false_negatives = 0\n",
        "\n",
        "    matched_gt = set()  # Keep track of matched ground truth boxes\n",
        "\n",
        "    for pred_box in pred_boxes:\n",
        "        best_iou = 0\n",
        "        best_gt_idx = -1\n",
        "\n",
        "        # Compare with all ground truth boxes\n",
        "        for gt_idx, gt_box in enumerate(gt_boxes):\n",
        "            iou = calculate_iou(gt_box, pred_box)\n",
        "            if iou > best_iou:\n",
        "                best_iou = iou\n",
        "                best_gt_idx = gt_idx\n",
        "\n",
        "        # Determine if the prediction is a TP or FP\n",
        "        if best_iou >= iou_threshold and best_gt_idx not in matched_gt:\n",
        "            true_positives += 1\n",
        "            matched_gt.add(best_gt_idx)\n",
        "        else:\n",
        "            false_positives += 1\n",
        "\n",
        "    # False negatives are ground truth boxes that have no matching prediction\n",
        "    false_negatives = len(gt_boxes) - len(matched_gt)\n",
        "\n",
        "    # Calculate precision and recall\n",
        "    precision = true_positives / (true_positives + false_positives) if (true_positives + false_positives) > 0 else 0\n",
        "    recall = true_positives / (true_positives + false_negatives) if (true_positives + false_negatives) > 0 else 0\n",
        "\n",
        "    return precision, recall\n",
        "\n",
        "\n",
        "# Example Usage\n",
        "if __name__ == \"__main__\":\n",
        "    gt_boxes = [[50, 50, 150, 150], [200, 200, 300, 300]]  # Ground Truth Boxes\n",
        "    pred_boxes = [[55, 55, 145, 145], [190, 190, 310, 310], [400, 400, 500, 500]]  # Predicted Boxes\n",
        "\n",
        "    precision, recall = calculate_precision_recall(gt_boxes, pred_boxes, iou_threshold=0.5)\n",
        "\n",
        "    print(f\"Precision: {precision:.2f}\")\n",
        "    print(f\"Recall: {recall:.2f}\")\n"
      ]
    }
  ]
}